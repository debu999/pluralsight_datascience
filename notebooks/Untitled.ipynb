{
 "cells": [
  {
   "cell_type": "code",
   "execution_count": null,
   "metadata": {
    "collapsed": true
   },
   "outputs": [],
   "source": [
    "import numpy as np\n",
    "import pandas as pd\n",
    "import os\n",
    "import matplotlib.pyplot as plt\n",
    "proj_path = os.path.join((os.getcwd()),os.path.pardir)\n",
    "raw_path = os.path.join(proj_path, \"data\",\"raw\")\n",
    "train_file_path=os.path.join(raw_path, \"train.csv\")\n",
    "test_file_path=os.path.join(raw_path, \"test.csv\")\n",
    "train_df = pd.read_csv(train_file_path, index_col=\"PassengerId\")\n",
    "test_df = pd.read_csv(test_file_path, index_col=\"PassengerId\")\n",
    "test_df['Survived']=-999\n",
    "titanic_df = pd.concat((train_df,test_df))\n",
    "titanic_df.info()\n",
    "titanic_df[titanic_df[\"Embarked\"].isnull()]"
   ]
  }
 ],
 "metadata": {
  "kernelspec": {
   "display_name": "Python 3",
   "language": "python",
   "name": "python3"
  },
  "language_info": {
   "codemirror_mode": {
    "name": "ipython",
    "version": 3
   },
   "file_extension": ".py",
   "mimetype": "text/x-python",
   "name": "python",
   "nbconvert_exporter": "python",
   "pygments_lexer": "ipython3",
   "version": "3.6.2"
  }
 },
 "nbformat": 4,
 "nbformat_minor": 2
}
