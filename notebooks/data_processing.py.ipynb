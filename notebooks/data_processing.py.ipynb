{
 "cells": [
  {
   "cell_type": "code",
   "execution_count": 6,
   "metadata": {
    "collapsed": true
   },
   "outputs": [],
   "source": [
    "import os\n",
    "import pathlib2 as pl2\n",
    "pl2.Path(os.path.join(os.path.pardir,\"src\",\"data\")).mkdir(parents=True, exist_ok=True)\n",
    "# pr_train_path=os.path.join(os.path.pardir,\"data\",\"processed\",\"train.csv\")\n",
    "# pr_test_path=os.path.join(os.path.pardir,\"data\",\"processed\",\"test.csv\")\n",
    "processed_data_script_fl = os.path.join(os.path.pardir,\"src\",\"data\",\"get_processed_data.py\")"
   ]
  },
  {
   "cell_type": "code",
   "execution_count": 16,
   "metadata": {
    "scrolled": false
   },
   "outputs": [
    {
     "name": "stdout",
     "output_type": "stream",
     "text": [
      "Overwriting ..\\src\\data\\get_processed_data.py\n"
     ]
    }
   ],
   "source": [
    "%%writefile $processed_data_script_fl\n",
    "\n",
    "import numpy as np\n",
    "import pandas as pd\n",
    "import os\n",
    "import matplotlib.pyplot as plt\n",
    "import pathlib2 as pl2\n",
    "\n",
    "def read_data():\n",
    "    proj_path = os.path.join((os.getcwd()),os.path.pardir)\n",
    "    raw_path = os.path.join(proj_path, \"data\",\"raw\")\n",
    "    train_file_path=os.path.join(raw_path, \"train.csv\")\n",
    "    test_file_path=os.path.join(raw_path, \"test.csv\")\n",
    "    train_df = pd.read_csv(train_file_path, index_col=\"PassengerId\")\n",
    "    test_df = pd.read_csv(test_file_path, index_col=\"PassengerId\")\n",
    "    test_df['Survived']=-999\n",
    "    titanic_df = pd.concat((train_df,test_df))\n",
    "    return titanic_df\n",
    "\n",
    "\n",
    "def process_data(df):\n",
    "    return (df\n",
    "           .assign(Title=lambda tdf: tdf.Name.map(getTitle))\n",
    "            .pipe(fill_missing_values)\n",
    "            .assign(Fare_Bin=lambda tdf: pd.qcut(tdf.Fare,4, labels=[\"very_low\",\"low\",\"medium\",\"high\"]))\n",
    "            .assign(Agestate=lambda tdf: np.where(tdf[\"Age\"]>=18,\"Adults\",\"Child\"))\n",
    "            .assign(FamilySize=lambda tdf: tdf.Parch + tdf.SibSp + 1)\n",
    "            .assign(IsMother=lambda tdf:np.where(((tdf.Sex=='female') & (tdf.Age > 18) & (tdf.Parch > 0) & (tdf.Title != \"Miss\")),1,0))\n",
    "            .assign(Cabin=lambda tdf: np.where(tdf.Cabin==\"T\",np.NaN,tdf.Cabin))\n",
    "            .assign(Deck=lambda tdf: tdf.Cabin.map(get_deck))\n",
    "            .assign(IsMale=lambda tdf: np.where(tdf.Sex==\"male\",1,0))\n",
    "            .pipe(pd.get_dummies, columns=[\"Deck\",\"Pclass\",\"Title\",\"Fare_Bin\",\"Embarked\",\"Agestate\"])\n",
    "            .drop([\"Cabin\",\"Name\",\"Ticket\",\"Parch\",\"SibSp\",\"Sex\"],axis=1)\n",
    "            .pipe(reorder_columns)           \n",
    "           )\n",
    "\n",
    "getTitle = lambda name: title_group[name.split(\",\")[1].split('.')[0].strip().lower()]\n",
    "title_group = {'mr':'Mr',\n",
    "'mrs':'Mrs',\n",
    "'miss':'Miss',\n",
    "'master':'Master',\n",
    "'don':'Sir',\n",
    "'rev':'Sir',\n",
    "'dr':'Officer',\n",
    "'mme':'Mrs',\n",
    "'ms':'Mrs',\n",
    "'major':'Officer',\n",
    "'lady':'Lady',\n",
    "'sir':'Sir',\n",
    "'mlle':\"Miss\",\n",
    "'col':'Officer',\n",
    "'capt':'Officer',\n",
    "'the countess':'Lady',\n",
    "'jonkheer':\"Sir\",\n",
    "'dona':\"Lady\"\n",
    "}\n",
    "\n",
    "\n",
    "get_deck = lambda cabin: np.where(pd.notnull(cabin),str(cabin)[0].upper(),'Z')\n",
    "\n",
    "\n",
    "def fill_missing_values(df):\n",
    "    df.Embarked.fillna('C',inplace=True)\n",
    "    mdfare=df[(df.Pclass==3) & (df.Embarked==\"S\")]['Fare'].median()\n",
    "    df.Fare.fillna(mdfare,inplace=True)\n",
    "    title_age_median = df.groupby(\"Title\").Age.transform('median')\n",
    "    df.Age.fillna(title_age_median,inplace=True)\n",
    "    return df\n",
    "\n",
    "def reorder_columns(df):\n",
    "    cols = ['Survived'] + [col for col in df.columns if col != 'Survived']\n",
    "    df=df[cols]\n",
    "    return df\n",
    "\n",
    "\n",
    "def write_data(df):\n",
    "    pl2.Path(os.path.join(os.path.pardir,\"data\",\"processed\")).mkdir(parents=True, exist_ok=True)\n",
    "    pr_train_path=os.path.join(os.path.pardir,\"data\",\"processed\",\"train.csv\")\n",
    "    pr_test_path=os.path.join(os.path.pardir,\"data\",\"processed\",\"test.csv\")\n",
    "\n",
    "    df.loc[df.Survived!=-999].to_csv(pr_train_path)\n",
    "    colms = [c for c in df.columns if c!='Survived']\n",
    "    df.loc[df.Survived==-999,colms].to_csv(pr_test_path)\n",
    "\n",
    "\n",
    "if __name__ == \"__main__\":\n",
    "    df = read_data();\n",
    "    df = process_data(df);\n",
    "    write_data(df);\n"
   ]
  },
  {
   "cell_type": "code",
   "execution_count": 17,
   "metadata": {},
   "outputs": [],
   "source": [
    "!python $processed_data_script_fl"
   ]
  },
  {
   "cell_type": "code",
   "execution_count": 5,
   "metadata": {},
   "outputs": [
    {
     "data": {
      "text/plain": [
       "'..\\\\src\\\\data\\\\get_processed_data.py'"
      ]
     },
     "execution_count": 5,
     "metadata": {},
     "output_type": "execute_result"
    }
   ],
   "source": [
    "import os;\n",
    "os.path.join(os.path.pardir,\"src\",\"data\",\"get_processed_data.py\")"
   ]
  },
  {
   "cell_type": "code",
   "execution_count": 18,
   "metadata": {},
   "outputs": [
    {
     "name": "stdout",
     "output_type": "stream",
     "text": [
      "<class 'pandas.core.frame.DataFrame'>\n",
      "RangeIndex: 891 entries, 0 to 890\n",
      "Data columns (total 34 columns):\n",
      "PassengerId          891 non-null int64\n",
      "Survived             891 non-null int64\n",
      "Age                  891 non-null float64\n",
      "Fare                 891 non-null float64\n",
      "FamilySize           891 non-null int64\n",
      "IsMother             891 non-null int64\n",
      "IsMale               891 non-null int64\n",
      "Deck_A               891 non-null int64\n",
      "Deck_B               891 non-null int64\n",
      "Deck_C               891 non-null int64\n",
      "Deck_D               891 non-null int64\n",
      "Deck_E               891 non-null int64\n",
      "Deck_F               891 non-null int64\n",
      "Deck_G               891 non-null int64\n",
      "Deck_Z               891 non-null int64\n",
      "Pclass_1             891 non-null int64\n",
      "Pclass_2             891 non-null int64\n",
      "Pclass_3             891 non-null int64\n",
      "Title_Lady           891 non-null int64\n",
      "Title_Master         891 non-null int64\n",
      "Title_Miss           891 non-null int64\n",
      "Title_Mr             891 non-null int64\n",
      "Title_Mrs            891 non-null int64\n",
      "Title_Officer        891 non-null int64\n",
      "Title_Sir            891 non-null int64\n",
      "Fare_Bin_very_low    891 non-null int64\n",
      "Fare_Bin_low         891 non-null int64\n",
      "Fare_Bin_medium      891 non-null int64\n",
      "Fare_Bin_high        891 non-null int64\n",
      "Embarked_C           891 non-null int64\n",
      "Embarked_Q           891 non-null int64\n",
      "Embarked_S           891 non-null int64\n",
      "Agestate_Adults      891 non-null int64\n",
      "Agestate_Child       891 non-null int64\n",
      "dtypes: float64(2), int64(32)\n",
      "memory usage: 236.8 KB\n"
     ]
    }
   ],
   "source": [
    "import pandas as pd\n",
    "pr_train_path=os.path.join(os.path.pardir,\"data\",\"processed\",\"train.csv\")\n",
    "x=pd.read_csv(pr_train_path)\n",
    "x.info()\n"
   ]
  },
  {
   "cell_type": "code",
   "execution_count": 19,
   "metadata": {},
   "outputs": [
    {
     "name": "stdout",
     "output_type": "stream",
     "text": [
      "<class 'pandas.core.frame.DataFrame'>\n",
      "RangeIndex: 418 entries, 0 to 417\n",
      "Data columns (total 33 columns):\n",
      "PassengerId          418 non-null int64\n",
      "Age                  418 non-null float64\n",
      "Fare                 418 non-null float64\n",
      "FamilySize           418 non-null int64\n",
      "IsMother             418 non-null int64\n",
      "IsMale               418 non-null int64\n",
      "Deck_A               418 non-null int64\n",
      "Deck_B               418 non-null int64\n",
      "Deck_C               418 non-null int64\n",
      "Deck_D               418 non-null int64\n",
      "Deck_E               418 non-null int64\n",
      "Deck_F               418 non-null int64\n",
      "Deck_G               418 non-null int64\n",
      "Deck_Z               418 non-null int64\n",
      "Pclass_1             418 non-null int64\n",
      "Pclass_2             418 non-null int64\n",
      "Pclass_3             418 non-null int64\n",
      "Title_Lady           418 non-null int64\n",
      "Title_Master         418 non-null int64\n",
      "Title_Miss           418 non-null int64\n",
      "Title_Mr             418 non-null int64\n",
      "Title_Mrs            418 non-null int64\n",
      "Title_Officer        418 non-null int64\n",
      "Title_Sir            418 non-null int64\n",
      "Fare_Bin_very_low    418 non-null int64\n",
      "Fare_Bin_low         418 non-null int64\n",
      "Fare_Bin_medium      418 non-null int64\n",
      "Fare_Bin_high        418 non-null int64\n",
      "Embarked_C           418 non-null int64\n",
      "Embarked_Q           418 non-null int64\n",
      "Embarked_S           418 non-null int64\n",
      "Agestate_Adults      418 non-null int64\n",
      "Agestate_Child       418 non-null int64\n",
      "dtypes: float64(2), int64(31)\n",
      "memory usage: 107.8 KB\n"
     ]
    }
   ],
   "source": [
    "pr_test_path=os.path.join(os.path.pardir,\"data\",\"processed\",\"test.csv\")\n",
    "x=pd.read_csv(pr_test_path)\n",
    "x.info()"
   ]
  },
  {
   "cell_type": "code",
   "execution_count": null,
   "metadata": {
    "collapsed": true
   },
   "outputs": [],
   "source": []
  }
 ],
 "metadata": {
  "kernelspec": {
   "display_name": "Python 3",
   "language": "python",
   "name": "python3"
  },
  "language_info": {
   "codemirror_mode": {
    "name": "ipython",
    "version": 3
   },
   "file_extension": ".py",
   "mimetype": "text/x-python",
   "name": "python",
   "nbconvert_exporter": "python",
   "pygments_lexer": "ipython3",
   "version": "3.6.2"
  }
 },
 "nbformat": 4,
 "nbformat_minor": 2
}
