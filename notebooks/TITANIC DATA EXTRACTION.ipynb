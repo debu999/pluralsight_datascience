{
 "cells": [
  {
   "cell_type": "code",
   "execution_count": 10,
   "metadata": {
    "collapsed": true
   },
   "outputs": [],
   "source": [
    "from dotenv import load_dotenv, find_dotenv\n",
    "import os\n",
    "import requests\n",
    "from requests import session as ss\n",
    "from cryptography.fernet import Fernet\n",
    "import ast"
   ]
  },
  {
   "cell_type": "code",
   "execution_count": 11,
   "metadata": {},
   "outputs": [],
   "source": [
    "dotenv_path = find_dotenv()\n",
    "load_dotenv(dotenv_path)\n",
    "\n",
    "auth_key = ast.literal_eval(os.environ.get(\"AUTH_KEY\"))\n",
    "enc_pwd = ast.literal_eval(os.environ.get(\"ENC_PWD\"))\n",
    "user_auth_key = ast.literal_eval(os.environ.get(\"USER_AUTH_KEY\"))\n",
    "enc_uid = ast.literal_eval(os.environ.get(\"ENC_UID\"))\n",
    "\n",
    "cp_ak = Fernet(auth_key)\n",
    "cp_uak = Fernet(user_auth_key)\n",
    "#cp_ak.decrypt(enc_pwd), cp_uak.decrypt(enc_uid)"
   ]
  },
  {
   "cell_type": "code",
   "execution_count": 20,
   "metadata": {},
   "outputs": [],
   "source": [
    "payload = {\n",
    "    \"action\":\"login\",\n",
    "    \"username\": cp_uak.decrypt(enc_uid),\n",
    "    \"password\":cp_ak.decrypt(enc_pwd)\n",
    "}\n",
    "\n",
    "url_login = \"\"\"https://www.kaggle.com/account/login\"\"\"\n",
    "\n",
    "def extract_data(url, file_path):\n",
    "    \"\"\"Extract data from Kaggle.\"\"\"\n",
    "    \n",
    "    with ss() as c:\n",
    "        c.post(url_login,data=payload)\n",
    "        with open(file_path,'wb') as fl_handle:\n",
    "\n",
    "            res = c.get(url_train, stream=True)\n",
    "            for block in res.iter_content(1024):\n",
    "                fl_handle.write(block)\n",
    "                \n"
   ]
  },
  {
   "cell_type": "code",
   "execution_count": 21,
   "metadata": {},
   "outputs": [
    {
     "data": {
      "text/plain": [
       "['.gitkeep', 'test.csv', 'train.csv']"
      ]
     },
     "execution_count": 21,
     "metadata": {},
     "output_type": "execute_result"
    }
   ],
   "source": [
    "url_train = \"https://www.kaggle.com/c/titanic/download/train.csv\"\n",
    "url_test = \"\"\"https://www.kaggle.com/c/titanic/download/test.csv\"\"\"\n",
    "\n",
    "raw_data_path = os.path.join(os.path.pardir,'data','raw')\n",
    "train_data_path = os.path.join(raw_data_path,\"train.csv\")\n",
    "test_data_path = os.path.join(raw_data_path,\"test.csv\")\n",
    "\n",
    "extract_data(url_train, train_data_path)\n",
    "extract_data(url_test, test_data_path)\n",
    "\n",
    "os.listdir(raw_data_path)"
   ]
  },
  {
   "cell_type": "code",
   "execution_count": 22,
   "metadata": {
    "collapsed": true
   },
   "outputs": [],
   "source": [
    "import pathlib2 as pl2\n",
    "pl2.Path(os.path.join(os.path.pardir,\"src\",\"data\")).mkdir(parents=True, exist_ok=True)\n",
    "get_kaggle_data_script=os.path.join(os.path.pardir,\"src\",\"data\",\"get_raw_data.py\")"
   ]
  },
  {
   "cell_type": "code",
   "execution_count": 49,
   "metadata": {},
   "outputs": [
    {
     "name": "stdout",
     "output_type": "stream",
     "text": [
      "Overwriting ..\\src\\data\\get_raw_data.py\n"
     ]
    }
   ],
   "source": [
    "%%writefile $get_kaggle_data_script\n",
    "# -*- coding: utf-8 -*-\n",
    "\n",
    "# Import Section\n",
    "from dotenv import load_dotenv, find_dotenv\n",
    "import os\n",
    "import requests\n",
    "from requests import session as ss\n",
    "from cryptography.fernet import Fernet\n",
    "import ast, logging\n",
    "\n",
    "# Get Params\n",
    "dotenv_path = find_dotenv()\n",
    "load_dotenv(dotenv_path)\n",
    "\n",
    "auth_key = ast.literal_eval(os.environ.get(\"AUTH_KEY\"))\n",
    "enc_pwd = ast.literal_eval(os.environ.get(\"ENC_PWD\"))\n",
    "user_auth_key = ast.literal_eval(os.environ.get(\"USER_AUTH_KEY\"))\n",
    "enc_uid = ast.literal_eval(os.environ.get(\"ENC_UID\"))\n",
    "\n",
    "cp_ak = Fernet(auth_key)\n",
    "cp_uak = Fernet(user_auth_key)\n",
    "\n",
    "# Functions and other variables\n",
    "payload = {\n",
    "    \"action\":\"login\",\n",
    "    \"username\": cp_uak.decrypt(enc_uid),\n",
    "    \"password\": cp_ak.decrypt(enc_pwd)\n",
    "}\n",
    "\n",
    "url_login = \"\"\"https://www.kaggle.com/account/login\"\"\"\n",
    "\n",
    "def extract_data(url, file_path):\n",
    "    \"\"\"Extract data from Kaggle.\"\"\"\n",
    "    \n",
    "    with ss() as c:\n",
    "        c.post(url_login,data=payload)\n",
    "        with open(file_path,'wb') as fl_handle:\n",
    "\n",
    "            res = c.get(url, stream=True)\n",
    "            for block in res.iter_content(1024):\n",
    "                fl_handle.write(block)\n",
    "                \n",
    "\n",
    "def main(proj_dir):\n",
    "    \"\"\"\n",
    "    Main Method.\n",
    "    \"\"\"\n",
    "    \n",
    "    # get logger\n",
    "    logger = logging.getLogger(__name__)\n",
    "    logger.info(\"Getting Raw Data from Kaggle using Session Authentication.\")\n",
    "    \n",
    "    # Fetch Data from Kaggle Invoke Funcitons\n",
    "    url_train = \"https://www.kaggle.com/c/titanic/download/train.csv\"\n",
    "    url_test = \"\"\"https://www.kaggle.com/c/titanic/download/test.csv\"\"\"\n",
    "\n",
    "    raw_data_path = os.path.join(proj_dir,'data','raw')\n",
    "    train_data_path = os.path.join(raw_data_path,\"train.csv\")\n",
    "    test_data_path = os.path.join(raw_data_path,\"test.csv\")\n",
    "\n",
    "    # Extract Data and store in CSV\n",
    "    extract_data(url_train, train_data_path)\n",
    "    extract_data(url_test, test_data_path)\n",
    "    logger.info(\"Data from Kaggle successfully downloaded.\")\n",
    "    \n",
    "    os.listdir(raw_data_path)\n",
    "\n",
    "if __name__ == \"__main__\":\n",
    "    proj_dir = os.path.join(os.path.dirname(__file__),os.path.pardir,os.path.pardir)\n",
    "    log_fmt = \"%(asctime)s - %(name)s - %(levelname)s - %(message)s\"\n",
    "    logging.basicConfig(level=logging.INFO, format=log_fmt)\n",
    "    main(proj_dir)"
   ]
  },
  {
   "cell_type": "code",
   "execution_count": 50,
   "metadata": {},
   "outputs": [
    {
     "name": "stderr",
     "output_type": "stream",
     "text": [
      "2017-12-30 18:20:53,623 - __main__ - INFO - Getting Raw Data from Kaggle using Session Authentication.\n",
      "2017-12-30 18:20:57,989 - __main__ - INFO - Data from Kaggle successfully downloaded.\n"
     ]
    }
   ],
   "source": [
    "!python $get_kaggle_data_script"
   ]
  },
  {
   "cell_type": "code",
   "execution_count": 51,
   "metadata": {},
   "outputs": [
    {
     "data": {
      "application/json": {
       "cell": {
        "!": "OSMagics",
        "HTML": "Other",
        "SVG": "Other",
        "bash": "Other",
        "capture": "ExecutionMagics",
        "cmd": "Other",
        "debug": "ExecutionMagics",
        "file": "Other",
        "html": "DisplayMagics",
        "javascript": "DisplayMagics",
        "js": "DisplayMagics",
        "latex": "DisplayMagics",
        "markdown": "DisplayMagics",
        "perl": "Other",
        "prun": "ExecutionMagics",
        "pypy": "Other",
        "python": "Other",
        "python2": "Other",
        "python3": "Other",
        "ruby": "Other",
        "script": "ScriptMagics",
        "sh": "Other",
        "svg": "DisplayMagics",
        "sx": "OSMagics",
        "system": "OSMagics",
        "time": "ExecutionMagics",
        "timeit": "ExecutionMagics",
        "writefile": "OSMagics"
       },
       "line": {
        "alias": "OSMagics",
        "alias_magic": "BasicMagics",
        "autocall": "AutoMagics",
        "automagic": "AutoMagics",
        "autosave": "KernelMagics",
        "bookmark": "OSMagics",
        "cd": "OSMagics",
        "clear": "KernelMagics",
        "cls": "KernelMagics",
        "colors": "BasicMagics",
        "config": "ConfigMagics",
        "connect_info": "KernelMagics",
        "copy": "Other",
        "ddir": "Other",
        "debug": "ExecutionMagics",
        "dhist": "OSMagics",
        "dirs": "OSMagics",
        "doctest_mode": "BasicMagics",
        "echo": "Other",
        "ed": "Other",
        "edit": "KernelMagics",
        "env": "OSMagics",
        "gui": "BasicMagics",
        "hist": "Other",
        "history": "HistoryMagics",
        "killbgscripts": "ScriptMagics",
        "ldir": "Other",
        "less": "KernelMagics",
        "load": "CodeMagics",
        "load_ext": "ExtensionMagics",
        "loadpy": "CodeMagics",
        "logoff": "LoggingMagics",
        "logon": "LoggingMagics",
        "logstart": "LoggingMagics",
        "logstate": "LoggingMagics",
        "logstop": "LoggingMagics",
        "ls": "Other",
        "lsmagic": "BasicMagics",
        "macro": "ExecutionMagics",
        "magic": "BasicMagics",
        "matplotlib": "PylabMagics",
        "mkdir": "Other",
        "more": "KernelMagics",
        "notebook": "BasicMagics",
        "page": "BasicMagics",
        "pastebin": "CodeMagics",
        "pdb": "ExecutionMagics",
        "pdef": "NamespaceMagics",
        "pdoc": "NamespaceMagics",
        "pfile": "NamespaceMagics",
        "pinfo": "NamespaceMagics",
        "pinfo2": "NamespaceMagics",
        "pip": "BasicMagics",
        "popd": "OSMagics",
        "pprint": "BasicMagics",
        "precision": "BasicMagics",
        "profile": "BasicMagics",
        "prun": "ExecutionMagics",
        "psearch": "NamespaceMagics",
        "psource": "NamespaceMagics",
        "pushd": "OSMagics",
        "pwd": "OSMagics",
        "pycat": "OSMagics",
        "pylab": "PylabMagics",
        "qtconsole": "KernelMagics",
        "quickref": "BasicMagics",
        "recall": "HistoryMagics",
        "rehashx": "OSMagics",
        "reload_ext": "ExtensionMagics",
        "ren": "Other",
        "rep": "Other",
        "rerun": "HistoryMagics",
        "reset": "NamespaceMagics",
        "reset_selective": "NamespaceMagics",
        "rmdir": "Other",
        "run": "ExecutionMagics",
        "save": "CodeMagics",
        "sc": "OSMagics",
        "set_env": "OSMagics",
        "store": "StoreMagics",
        "sx": "OSMagics",
        "system": "OSMagics",
        "tb": "ExecutionMagics",
        "time": "ExecutionMagics",
        "timeit": "ExecutionMagics",
        "unalias": "OSMagics",
        "unload_ext": "ExtensionMagics",
        "who": "NamespaceMagics",
        "who_ls": "NamespaceMagics",
        "whos": "NamespaceMagics",
        "xdel": "NamespaceMagics",
        "xmode": "BasicMagics"
       }
      },
      "text/plain": [
       "Available line magics:\n",
       "%alias  %alias_magic  %autocall  %automagic  %autosave  %bookmark  %cd  %clear  %cls  %colors  %config  %connect_info  %copy  %ddir  %debug  %dhist  %dirs  %doctest_mode  %echo  %ed  %edit  %env  %gui  %hist  %history  %killbgscripts  %ldir  %less  %load  %load_ext  %loadpy  %logoff  %logon  %logstart  %logstate  %logstop  %ls  %lsmagic  %macro  %magic  %matplotlib  %mkdir  %more  %notebook  %page  %pastebin  %pdb  %pdef  %pdoc  %pfile  %pinfo  %pinfo2  %popd  %pprint  %precision  %profile  %prun  %psearch  %psource  %pushd  %pwd  %pycat  %pylab  %qtconsole  %quickref  %recall  %rehashx  %reload_ext  %ren  %rep  %rerun  %reset  %reset_selective  %rmdir  %run  %save  %sc  %set_env  %store  %sx  %system  %tb  %time  %timeit  %unalias  %unload_ext  %who  %who_ls  %whos  %xdel  %xmode\n",
       "\n",
       "Available cell magics:\n",
       "%%!  %%HTML  %%SVG  %%bash  %%capture  %%cmd  %%debug  %%file  %%html  %%javascript  %%js  %%latex  %%markdown  %%perl  %%prun  %%pypy  %%python  %%python2  %%python3  %%ruby  %%script  %%sh  %%svg  %%sx  %%system  %%time  %%timeit  %%writefile\n",
       "\n",
       "Automagic is ON, % prefix IS NOT needed for line magics."
      ]
     },
     "execution_count": 51,
     "metadata": {},
     "output_type": "execute_result"
    }
   ],
   "source": [
    "%lsmagic"
   ]
  },
  {
   "cell_type": "code",
   "execution_count": null,
   "metadata": {
    "collapsed": true
   },
   "outputs": [],
   "source": []
  }
 ],
 "metadata": {
  "kernelspec": {
   "display_name": "Python 3",
   "language": "python",
   "name": "python3"
  },
  "language_info": {
   "codemirror_mode": {
    "name": "ipython",
    "version": 3
   },
   "file_extension": ".py",
   "mimetype": "text/x-python",
   "name": "python",
   "nbconvert_exporter": "python",
   "pygments_lexer": "ipython3",
   "version": "3.6.2"
  }
 },
 "nbformat": 4,
 "nbformat_minor": 2
}
